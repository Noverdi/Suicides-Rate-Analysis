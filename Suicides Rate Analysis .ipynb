{
 "cells": [
  {
   "cell_type": "markdown",
   "metadata": {},
   "source": [
    "# SUICIDES RATE ANALYSIS"
   ]
  },
  {
   "cell_type": "markdown",
   "metadata": {},
   "source": [
    "###  import module"
   ]
  },
  {
   "cell_type": "code",
   "execution_count": null,
   "metadata": {},
   "outputs": [],
   "source": [
    "import pandas as pd\n",
    "import numpy as np\n",
    "import math\n",
    "import matplotlib.pyplot as plt\n",
    "from scipy import stats\n",
    "import statsmodels.formula.api as smf"
   ]
  },
  {
   "cell_type": "markdown",
   "metadata": {},
   "source": [
    "###  explore data"
   ]
  },
  {
   "cell_type": "code",
   "execution_count": null,
   "metadata": {},
   "outputs": [],
   "source": [
    "df = pd.read_csv('./doc/master.csv')"
   ]
  },
  {
   "cell_type": "code",
   "execution_count": null,
   "metadata": {},
   "outputs": [],
   "source": [
    "list(df)"
   ]
  },
  {
   "cell_type": "markdown",
   "metadata": {},
   "source": [
    "untuk mempermudah, dilakukan perubahan nama kolom dari data frame"
   ]
  },
  {
   "cell_type": "code",
   "execution_count": null,
   "metadata": {},
   "outputs": [],
   "source": [
    "# Rename nama kolom\n",
    "df.rename(columns={'suicides/100k pop':'suicides_per_100k_pop',\n",
    "                  'country-year': 'country_year',\n",
    "                  'HDI for year':'HDI',\n",
    "                  ' gdp_for_year ($) ':'gdp_for_year',\n",
    "                  'gdp_per_capita ($)':'gdp_percapita'}, inplace=True)"
   ]
  },
  {
   "cell_type": "code",
   "execution_count": null,
   "metadata": {},
   "outputs": [],
   "source": [
    "# data info\n",
    "df.info()"
   ]
  },
  {
   "cell_type": "code",
   "execution_count": null,
   "metadata": {},
   "outputs": [],
   "source": [
    "df['gdp_for_year'] = df.gdp_for_year.apply(lambda x:x.replace(\",\",\"\")).astype(np.int64)"
   ]
  },
  {
   "cell_type": "code",
   "execution_count": null,
   "metadata": {},
   "outputs": [],
   "source": [
    "df.sample(5)"
   ]
  },
  {
   "cell_type": "markdown",
   "metadata": {},
   "source": [
    "### Analisis Statistik\n",
    "#### GDP dan Suicide\n",
    "GDP (PDB / Pendapatan Domestik Bruto) adalah variabel yang menjadi perhatian di beberapa negara yang mungkin merupakan salah satu faktor yang menjadi penyebab meningkatnya rasio bunuh diri, oleh karena itu akan di;akukam test untuk melihat hubungan antara GDP dan Jumlah Suicide.\n",
    "\n",
    "Pertama2 yang dilakukan adalah melihat korelasi antara \"suicide_no\" dan \"gdp_for_year\"."
   ]
  },
  {
   "cell_type": "code",
   "execution_count": null,
   "metadata": {},
   "outputs": [],
   "source": [
    "df.suicides_no.describe()"
   ]
  },
  {
   "cell_type": "code",
   "execution_count": null,
   "metadata": {},
   "outputs": [],
   "source": [
    "df.suicides_no.plot(grid=True,kind='hist',figsize=(15,8))\n",
    "plt.xlabel('suicides_no')\n",
    "plt.ylabel('Frequency')\n",
    "plt.show()"
   ]
  },
  {
   "cell_type": "code",
   "execution_count": null,
   "metadata": {},
   "outputs": [],
   "source": [
    "# Calc Skewness\n",
    "df.suicides_no.skew()"
   ]
  },
  {
   "cell_type": "markdown",
   "metadata": {},
   "source": [
    "nilai skewness dari variable \"suicides_no\" terlalu tinggi (10.35). maka tidak bisa dilakukan test korelasi menggunakan metode spearman, karena untuk menghitung korelasi menggunakan metode Pearson maka variabelnya harus berdistribusi normal. Cara termudahnya adalah dengan melihat nilai skewness dari variabel tersebut, nilai skewnwss tidak boleh lebih besar dari 1 (Skewness < 1), solusi lainnya selain melakukan transformasi adalah denan menggunaka metode selain Pearson (Kendall atau Spearman)."
   ]
  },
  {
   "cell_type": "code",
   "execution_count": null,
   "metadata": {},
   "outputs": [],
   "source": [
    "df.gdp_for_year.describe()"
   ]
  },
  {
   "cell_type": "code",
   "execution_count": null,
   "metadata": {},
   "outputs": [],
   "source": [
    "df.gdp_for_year.plot(grid=True,kind='hist',figsize=(15,8))\n",
    "plt.xlabel('gdp_for_year')\n",
    "plt.ylabel('Frequency')\n",
    "plt.show()"
   ]
  },
  {
   "cell_type": "code",
   "execution_count": null,
   "metadata": {},
   "outputs": [],
   "source": [
    "df.gdp_for_year.skew()"
   ]
  },
  {
   "cell_type": "markdown",
   "metadata": {},
   "source": [
    "terlihat, kedua variabel tidak berdistribusi normal (Skewness > 1). maka digunakan metode spearman untuk melihat korelasi antara dua variabel"
   ]
  },
  {
   "cell_type": "code",
   "execution_count": null,
   "metadata": {},
   "outputs": [],
   "source": [
    "df['suicides_no'].corr(df['gdp_for_year'],method='spearman')"
   ]
  },
  {
   "cell_type": "markdown",
   "metadata": {},
   "source": [
    "Terdapat korelasi yagn signifikan antara variabel dependent \"Suicides_no\" adan \"gdp_for_year\". namun belum cukup. nilai korelasi hanya ~ 0.66 (0.8 dipandang cukup). langkah selanjutnya adalah dengan melihat confidence interval untuk melihat adakah korelasi pada populasi"
   ]
  },
  {
   "cell_type": "code",
   "execution_count": null,
   "metadata": {},
   "outputs": [],
   "source": [
    "r_z = np.arctanh(df['suicides_no'].corr(df['gdp_for_year'],method='spearman'))\n",
    "se = 1/np.sqrt(df.suicides_no.count()-3)\n",
    "alpha = 0.05\n",
    "z = stats.norm.ppf(1-alpha/2)\n",
    "lo_z, hi_z = r_z-z*se, r_z+z*se\n",
    "lo, hi = np.tanh((lo_z, hi_z))"
   ]
  },
  {
   "cell_type": "code",
   "execution_count": null,
   "metadata": {},
   "outputs": [],
   "source": [
    "# Confidence Interval\n",
    "lo,df['suicides_no'].corr(df['gdp_for_year'],method='spearman'),hi"
   ]
  },
  {
   "cell_type": "markdown",
   "metadata": {},
   "source": [
    "Terdapat korelasi diantarakedua variable ini di populasi, dan berada duantara ~0.65 dan ~0.66, secara statistik interval ini tergolong kecil"
   ]
  },
  {
   "cell_type": "markdown",
   "metadata": {},
   "source": [
    "#### HDI(Human Development Index) and Suicide\n",
    "\n",
    "Seperti yang sebelumnya, perlunya melihat nilai skewness untuk memilih metode yang tepat untuk dilakukannya test."
   ]
  },
  {
   "cell_type": "code",
   "execution_count": null,
   "metadata": {},
   "outputs": [],
   "source": [
    "#Checking the HDI assumption\n",
    "df.HDI.describe(), \"Null = %a\" % df.HDI.isna().sum(), \"skew = %s\" %df.HDI.skew()"
   ]
  },
  {
   "cell_type": "code",
   "execution_count": null,
   "metadata": {},
   "outputs": [],
   "source": [
    "df.HDI.plot(kind='hist', bins=30, grid=True, figsize=(15,8))\n",
    "plt.xlabel('HDI for year')\n",
    "plt.ylabel('Frequency')\n",
    "plt.show()"
   ]
  },
  {
   "cell_type": "markdown",
   "metadata": {},
   "source": [
    "NIlai Skewness HDI < 1, maka bisa dikatakan variabel ini berdistribusi normal, walaupun \"BellCurve\" nya tak sempurna, namun dapat diterima.\n",
    "\n",
    "Walaupun variabel ini berdistribusi normal, namun belum dapat dilakukan test menggunakan metode Pearson, karena variabel lainnya (suicides_no) yang akan kita cari korelasinya tidaklah berdistribusi normal, maka akan dilakukan tranformasi pada distribusi tersebut sebelum dilakukan test."
   ]
  },
  {
   "cell_type": "code",
   "execution_count": null,
   "metadata": {},
   "outputs": [],
   "source": [
    "# Transforming suicides_no variable\n",
    "df['suicides_no_log'] = df['suicides_no'].apply(lambda x: math.log(x+1))\n",
    "df.suicides_no_log.skew()"
   ]
  },
  {
   "cell_type": "code",
   "execution_count": null,
   "metadata": {},
   "outputs": [],
   "source": [
    "df.suicides_no_log.plot(kind='hist', bins=30, grid=True, figsize=(15,8))\n",
    "plt.xlabel('suicides_no_log')\n",
    "plt.ylabel('Frequency')\n",
    "plt.show()"
   ]
  },
  {
   "cell_type": "markdown",
   "metadata": {},
   "source": [
    "bentuk \"Bell-curve\"nya tak sempurna, namun cukuplah..."
   ]
  },
  {
   "cell_type": "code",
   "execution_count": null,
   "metadata": {},
   "outputs": [],
   "source": [
    "# finding the correlation\n",
    "df.suicides_no_log.corr(df.HDI)"
   ]
  },
  {
   "cell_type": "code",
   "execution_count": null,
   "metadata": {},
   "outputs": [],
   "source": [
    "r_z = np.arctanh(df.suicides_no_log.corr(df.HDI))\n",
    "se = 1/np.sqrt(df.suicides_no_log.count()-3)\n",
    "alpha = 0.05\n",
    "z = stats.norm.ppf(1-alpha/2)\n",
    "lo_z, hi_z = r_z-z*se, r_z+z*se\n",
    "lo, hi = np.tanh((lo_z, hi_z))"
   ]
  },
  {
   "cell_type": "code",
   "execution_count": null,
   "metadata": {},
   "outputs": [],
   "source": [
    "# Confidence Interval\n",
    "lo,df.suicides_no_log.corr(df.HDI),hi"
   ]
  },
  {
   "cell_type": "markdown",
   "metadata": {},
   "source": [
    "Terdapat korelasi yang signifikan antara variabel dependent (suicides_no) dengan variabel independent (HDI). tapi nilai korelasinya relatif kecil. hanya  ~0.18. bahkan untuk nlai Populasi berada diantara ~ 0.16 dan ~0.19"
   ]
  },
  {
   "cell_type": "markdown",
   "metadata": {},
   "source": [
    "## Regression Analysis\n",
    "sebelumnya telah dilakukn dua analisis korelasi, yang dibahas hanya hubungan antara dua variabel dan bukan penyebabnya. Belum diketahui bahwa variabel yang satu mempengaruhi variabel yang lainnya, contohnya hanya terdapat nilai korelasi positif yang sedikit antara HDI dan suicides rate. Korelasi hanya memberi informasi tentang hubungan antara dua variabel. maka kali ini akan dilakukan anallisis regresi untuk mencari tahu variabel yang mempengaruhi suicide rate\n",
    "\n",
    "untuk melakukan analisis regresi, variabel harus berditribusi normal, maka akan kita list variabel dan akan dilakukan transformasikan variabel tersebut apabila diperlukan"
   ]
  },
  {
   "cell_type": "code",
   "execution_count": null,
   "metadata": {},
   "outputs": [],
   "source": [
    "df.describe(include='all')"
   ]
  },
  {
   "cell_type": "markdown",
   "metadata": {},
   "source": [
    "sebelum dilakukan transformasi"
   ]
  },
  {
   "cell_type": "code",
   "execution_count": null,
   "metadata": {},
   "outputs": [],
   "source": [
    "w=15\n",
    "h=8\n",
    "fig = plt.figure()\n",
    "ax1 = fig.add_subplot(221)\n",
    "ax2 = fig.add_subplot(222)\n",
    "ax3 = fig.add_subplot(223)\n",
    "ax4 = fig.add_subplot(224)\n",
    "df.gdp_for_year.plot(kind='hist', ax=ax1,figsize=(w,h))\n",
    "df.population.plot(kind='hist', ax=ax2,figsize=(w,h))\n",
    "df.gdp_percapita.plot(kind='hist', ax=ax3,figsize=(w,h))\n",
    "df.suicides_per_100k_pop.plot(kind='hist', ax=ax4,figsize=(w,h))\n"
   ]
  },
  {
   "cell_type": "markdown",
   "metadata": {},
   "source": [
    "terlihat bahwa kempat variabel diatas tidak berdistribusi normal, maka akan dilakukan tranformasi variabel tersebut dengan logaritma natural"
   ]
  },
  {
   "cell_type": "code",
   "execution_count": null,
   "metadata": {},
   "outputs": [],
   "source": [
    "# Transformasi variable\n",
    "df['gdp_for_year_log'] = df['gdp_for_year'].apply(lambda x: math.log(x+1))\n",
    "df['population_log'] = df['population'].apply(lambda x: math.log(x+1))\n",
    "df['gdp_percapita_log'] = df['gdp_percapita'].apply(lambda x: math.log(x+1))\n",
    "df['suicides_per_100k_pop_log'] = df['suicides_per_100k_pop'].apply(lambda x: math.log(x+1))"
   ]
  },
  {
   "cell_type": "code",
   "execution_count": null,
   "metadata": {},
   "outputs": [],
   "source": [
    "fig = plt.figure()\n",
    "ax1 = fig.add_subplot(221)\n",
    "ax2 = fig.add_subplot(222)\n",
    "ax3 = fig.add_subplot(223)\n",
    "ax4 = fig.add_subplot(224)\n",
    "df.gdp_for_year_log.plot(kind='hist', ax=ax1,figsize=(10,7),bins=20)\n",
    "df.population_log.plot(kind='hist', ax=ax2,figsize=(10,7),bins=20)\n",
    "df.gdp_percapita_log.plot(kind='hist', ax=ax3,figsize=(10,7),bins=20)\n",
    "df.suicides_per_100k_pop_log.plot(kind='hist', ax=ax4,figsize=(10,7),bins=20)"
   ]
  },
  {
   "cell_type": "markdown",
   "metadata": {},
   "source": [
    "tidak terbentuk \"Bell curve\" yang sempurma, tapi ini cukup.\n",
    "kita akan melihat variasi antara variabel dependen dan variabel independent/predictor, dengan cara memasukkan variabel independen satu per satu dengan menggunakan funsi ols (ordinary least squares) yang terdapat pada module stats model"
   ]
  },
  {
   "cell_type": "code",
   "execution_count": null,
   "metadata": {},
   "outputs": [],
   "source": [
    "model1 = smf.ols('suicides_no_log ~ HDI', data = df).fit()\n",
    "# model1.rsquared,model1.rsquared_adj\n",
    "print(model1.summary())"
   ]
  },
  {
   "cell_type": "markdown",
   "metadata": {},
   "source": [
    "terlihat, HDI for year secara berkontribusi menjadi penyebab dari suicides rate, walaupun nilai Adjusted R-squared nya hanya 0.032."
   ]
  },
  {
   "cell_type": "code",
   "execution_count": null,
   "metadata": {},
   "outputs": [],
   "source": [
    "model2 = smf.ols('suicides_no_log ~ HDI+gdp_for_year_log', data = df).fit()\n",
    "# model2.rsquared,model2.rsquared_adj\n",
    "print(model2.summary())"
   ]
  },
  {
   "cell_type": "markdown",
   "metadata": {},
   "source": [
    "ketika ditambahkan variabel lain (gdp_for_year_log), nilai dari adjusted R-squarred meningkat dari 0.032 menjadi 0.474."
   ]
  },
  {
   "cell_type": "code",
   "execution_count": null,
   "metadata": {},
   "outputs": [],
   "source": [
    "model3 = smf.ols('suicides_no_log ~ HDI+gdp_for_year_log+population_log', data=df).fit()\n",
    "# model3.rsquared,model3.rsquared_adj\n",
    "print(model3.summary())"
   ]
  },
  {
   "cell_type": "markdown",
   "metadata": {},
   "source": [
    "nilai dari adjusted R-squarred meningkat dari 0474 menjadi 0.594, menunjukkan bahwa variabel populastion_log memberikan kontribusi dalam meningkatkan varias adjusted R-squarred"
   ]
  },
  {
   "cell_type": "code",
   "execution_count": null,
   "metadata": {},
   "outputs": [],
   "source": [
    "model4 = smf.ols('suicides_no_log ~ HDI+gdp_for_year_log+population_log+gdp_percapita_log',data=df).fit()\n",
    "# model4.rsquared,model4.rsquared_adj\n",
    "print(model4.summary())"
   ]
  },
  {
   "cell_type": "code",
   "execution_count": null,
   "metadata": {},
   "outputs": [],
   "source": [
    "model5 = smf.ols('suicides_no_log ~ HDI+gdp_for_year_log+population_log+gdp_percapita_log+suicides_per_100k_pop_log',data=df).fit()\n",
    "# model5.rsquared,model5.rsquared_adj\n",
    "print(model5.summary())"
   ]
  },
  {
   "cell_type": "markdown",
   "metadata": {},
   "source": [
    "terlihat lonjakan besar terjadi pada  nilai adjusted R-squarred setelah menambahkn variabel suicides_per_100k_pop_log menjadi 0.917. maka dapat dikatakan bahwa keempat variabel independent diatas () mbisa menjadi representasi dari penyebab suicide rate 91.7%.\n",
    "\n",
    "untuk mengevaluasi model diatas, maka distribusi dari residu model diatas haruslah berdistribusi normal."
   ]
  },
  {
   "cell_type": "code",
   "execution_count": null,
   "metadata": {},
   "outputs": [],
   "source": [
    "model5.resid.plot(kind='hist',bins=71,figsize=(15,8))"
   ]
  },
  {
   "cell_type": "markdown",
   "metadata": {},
   "source": [
    "### Kesimpulan\n",
    "Setelah dilakukan Anallisis regresi, diperolehlah penyebab dari suicide rate dari dataset ini. terlihat semakin kecil GDP per capita maka semakin besar suicide rate, begitu pula pengaruh variabel independen lainnya dengan suicide rate."
   ]
  }
 ],
 "metadata": {
  "kernelspec": {
   "display_name": "Python 3",
   "language": "python",
   "name": "python3"
  },
  "language_info": {
   "codemirror_mode": {
    "name": "ipython",
    "version": 3
   },
   "file_extension": ".py",
   "mimetype": "text/x-python",
   "name": "python",
   "nbconvert_exporter": "python",
   "pygments_lexer": "ipython3",
   "version": "3.7.3"
  }
 },
 "nbformat": 4,
 "nbformat_minor": 2
}
